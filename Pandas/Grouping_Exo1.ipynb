{
 "cells": [
  {
   "cell_type": "markdown",
   "metadata": {
    "collapsed": true
   },
   "source": [
    "# <span style = \"color:brown\"> PANDAS HWK3 </span>\n",
    "\n",
    "### Grouping : occupation"
   ]
  },
  {
   "cell_type": "code",
   "execution_count": 3,
   "metadata": {
    "collapsed": true
   },
   "outputs": [],
   "source": [
    "import numpy as np\n",
    "import pandas as pd"
   ]
  },
  {
   "cell_type": "code",
   "execution_count": 5,
   "metadata": {
    "collapsed": true
   },
   "outputs": [],
   "source": [
    "users = pd.read_table(\"https://raw.githubusercontent.com/justmarkham/DAT8/master/data/u.user\", sep = \"|\", index_col = \"user_id\")"
   ]
  },
  {
   "cell_type": "code",
   "execution_count": 6,
   "metadata": {},
   "outputs": [
    {
     "data": {
      "text/html": [
       "<div>\n",
       "<style>\n",
       "    .dataframe thead tr:only-child th {\n",
       "        text-align: right;\n",
       "    }\n",
       "\n",
       "    .dataframe thead th {\n",
       "        text-align: left;\n",
       "    }\n",
       "\n",
       "    .dataframe tbody tr th {\n",
       "        vertical-align: top;\n",
       "    }\n",
       "</style>\n",
       "<table border=\"1\" class=\"dataframe\">\n",
       "  <thead>\n",
       "    <tr style=\"text-align: right;\">\n",
       "      <th></th>\n",
       "      <th>age</th>\n",
       "      <th>gender</th>\n",
       "      <th>occupation</th>\n",
       "      <th>zip_code</th>\n",
       "    </tr>\n",
       "    <tr>\n",
       "      <th>user_id</th>\n",
       "      <th></th>\n",
       "      <th></th>\n",
       "      <th></th>\n",
       "      <th></th>\n",
       "    </tr>\n",
       "  </thead>\n",
       "  <tbody>\n",
       "    <tr>\n",
       "      <th>1</th>\n",
       "      <td>24</td>\n",
       "      <td>M</td>\n",
       "      <td>technician</td>\n",
       "      <td>85711</td>\n",
       "    </tr>\n",
       "    <tr>\n",
       "      <th>2</th>\n",
       "      <td>53</td>\n",
       "      <td>F</td>\n",
       "      <td>other</td>\n",
       "      <td>94043</td>\n",
       "    </tr>\n",
       "    <tr>\n",
       "      <th>3</th>\n",
       "      <td>23</td>\n",
       "      <td>M</td>\n",
       "      <td>writer</td>\n",
       "      <td>32067</td>\n",
       "    </tr>\n",
       "    <tr>\n",
       "      <th>4</th>\n",
       "      <td>24</td>\n",
       "      <td>M</td>\n",
       "      <td>technician</td>\n",
       "      <td>43537</td>\n",
       "    </tr>\n",
       "    <tr>\n",
       "      <th>5</th>\n",
       "      <td>33</td>\n",
       "      <td>F</td>\n",
       "      <td>other</td>\n",
       "      <td>15213</td>\n",
       "    </tr>\n",
       "  </tbody>\n",
       "</table>\n",
       "</div>"
      ],
      "text/plain": [
       "         age gender  occupation zip_code\n",
       "user_id                                 \n",
       "1         24      M  technician    85711\n",
       "2         53      F       other    94043\n",
       "3         23      M      writer    32067\n",
       "4         24      M  technician    43537\n",
       "5         33      F       other    15213"
      ]
     },
     "execution_count": 6,
     "metadata": {},
     "output_type": "execute_result"
    }
   ],
   "source": [
    "users.head()"
   ]
  },
  {
   "cell_type": "markdown",
   "metadata": {},
   "source": [
    "#### What is the mean age per occupation?"
   ]
  },
  {
   "cell_type": "code",
   "execution_count": 11,
   "metadata": {
    "collapsed": true
   },
   "outputs": [
    {
     "data": {
      "text/plain": [
       "occupation\n",
       "administrator    38.746835\n",
       "artist           31.392857\n",
       "doctor           43.571429\n",
       "educator         42.010526\n",
       "engineer         36.388060\n",
       "entertainment    29.222222\n",
       "executive        38.718750\n",
       "healthcare       41.562500\n",
       "homemaker        32.571429\n",
       "lawyer           36.750000\n",
       "librarian        40.000000\n",
       "marketing        37.615385\n",
       "none             26.555556\n",
       "other            34.523810\n",
       "programmer       33.121212\n",
       "retired          63.071429\n",
       "salesman         35.666667\n",
       "scientist        35.548387\n",
       "student          22.081633\n",
       "technician       33.148148\n",
       "writer           36.311111\n",
       "Name: age, dtype: float64"
      ]
     },
     "execution_count": 11,
     "metadata": {},
     "output_type": "execute_result"
    }
   ],
   "source": [
    "users.groupby(\"occupation\").age.mean()"
   ]
  },
  {
   "cell_type": "markdown",
   "metadata": {},
   "source": [
    "#### What is the ratio of man per occupation and sort it from the most to the least?"
   ]
  },
  {
   "cell_type": "code",
   "execution_count": 32,
   "metadata": {
    "scrolled": true
   },
   "outputs": [
    {
     "name": "stdout",
     "output_type": "stream",
     "text": [
      "Index(['administrator', 'artist', 'doctor', 'educator', 'engineer',\n",
      "       'entertainment', 'executive', 'healthcare', 'homemaker', 'lawyer',\n",
      "       'librarian', 'marketing', 'none', 'other', 'programmer', 'retired',\n",
      "       'salesman', 'scientist', 'student', 'technician', 'writer'],\n",
      "      dtype='object', name='occupation')\n",
      "[ 43  15   7  69  65  16  29   5   1  10  22  16   5  69  60  13   9  28\n",
      " 136  26  26]\n"
     ]
    }
   ],
   "source": [
    "# LONG WAY\n",
    "# ratio of men = nb men/total-nb men = nb men/nb female.\n",
    "# list cannot to element wise operation, so will use numpy arrays for that.\n",
    "\n",
    "# value_counts() has some kind of sorting so we cannot use it.\n",
    "# check the type to see if it's a series\n",
    "type(users.loc[users.gender == \"M\"].groupby(\"occupation\").occupation.count())\n",
    "nb_male_per_occup = users.loc[users.gender == \"M\"].groupby(\"occupation\").occupation.count()\n",
    "print(nb_male_per_occup.index)\n",
    "print(nb_male_per_occup.values)\n",
    "\n",
    "# number of people per occupation, it's a series too\n",
    "nbr_of_people_per_occup = users.groupby(\"occupation\").occupation.count()"
   ]
  },
  {
   "cell_type": "code",
   "execution_count": 44,
   "metadata": {
    "scrolled": true
   },
   "outputs": [
    {
     "name": "stdout",
     "output_type": "stream",
     "text": [
      "[ 43  15   7  69  65  16  29   5   1  10  22  16   5  69  60  13   9  28\n",
      " 136  26  26]\n",
      "[36 13  0 26  2  2  3 11  6  2 29 10  4 36  6  1  3  3 60  1 19]\n",
      "[  1.19444444   1.15384615          inf   2.65384615  32.5          8.\n",
      "   9.66666667   0.45454545   0.16666667   5.           0.75862069   1.6\n",
      "   1.25         1.91666667  10.          13.           3.           9.33333333\n",
      "   2.26666667  26.           1.36842105]\n"
     ]
    },
    {
     "name": "stderr",
     "output_type": "stream",
     "text": [
      "C:\\Users\\ghisl\\Anaconda3\\lib\\site-packages\\ipykernel\\__main__.py:11: RuntimeWarning: divide by zero encountered in true_divide\n"
     ]
    }
   ],
   "source": [
    "# Transform both series into numpy array\n",
    "nbr_male_per_occup = np.array(nb_male_per_occup)\n",
    "nbr_of_people_per_occup = np.array(nbr_of_people_per_occup)\n",
    "type(nbr_male_per_occup) # it's now a numpy array\n",
    "type(nbr_of_people_per_occup)\n",
    "\n",
    "# find ratio\n",
    "nbr_female_per_occup = nbr_of_people_per_occup - nbr_male_per_occup\n",
    "male_ratio = nbr_male_per_occup/nbr_female_per_occup\n",
    "print(male_ratio)"
   ]
  },
  {
   "cell_type": "code",
   "execution_count": 60,
   "metadata": {},
   "outputs": [
    {
     "name": "stderr",
     "output_type": "stream",
     "text": [
      "C:\\Users\\ghisl\\Anaconda3\\lib\\site-packages\\ipykernel\\__main__.py:6: RuntimeWarning: divide by zero encountered in longlong_scalars\n"
     ]
    },
    {
     "data": {
      "text/plain": [
       "[('administrator', 1.1944444444444444),\n",
       " ('artist', 1.1538461538461537),\n",
       " ('doctor', inf),\n",
       " ('educator', 2.6538461538461537),\n",
       " ('engineer', 32.5),\n",
       " ('entertainment', 8.0),\n",
       " ('executive', 9.6666666666666661),\n",
       " ('healthcare', 0.45454545454545453),\n",
       " ('homemaker', 0.16666666666666666),\n",
       " ('lawyer', 5.0),\n",
       " ('librarian', 0.75862068965517238),\n",
       " ('marketing', 1.6000000000000001),\n",
       " ('none', 1.25),\n",
       " ('other', 1.9166666666666667),\n",
       " ('programmer', 10.0),\n",
       " ('retired', 13.0),\n",
       " ('salesman', 3.0),\n",
       " ('scientist', 9.3333333333333339),\n",
       " ('student', 2.2666666666666666),\n",
       " ('technician', 26.0),\n",
       " ('writer', 1.368421052631579)]"
      ]
     },
     "execution_count": 60,
     "metadata": {},
     "output_type": "execute_result"
    }
   ],
   "source": [
    "# AVERAGE WAY\n",
    "num_of_male_per_occup = np.array(users.loc[users.gender == \"M\"].groupby(\"occupation\").occupation.count())\n",
    "num_of_people_per_occup = np.array(users.groupby(\"occupation\").occupation.count())\n",
    "num_of_female_per_occup = num_of_people_per_occup - num_of_male_per_occup\n",
    "occup_list = users.loc[users.gender == \"M\"].groupby(\"occupation\").occupation.count().index\n",
    "[(occup_list[index],num_of_male_per_occup[index]/num_of_female_per_occup[index]) for index in range(len(occup_list))\n",
    "if num_of_female_per_occup[index]]\n",
    "       \n"
   ]
  },
  {
   "cell_type": "code",
   "execution_count": 13,
   "metadata": {},
   "outputs": [
    {
     "data": {
      "text/plain": [
       "occupation\n",
       "administrator     1.194444\n",
       "artist            1.153846\n",
       "doctor                 inf\n",
       "educator          2.653846\n",
       "engineer         32.500000\n",
       "entertainment     8.000000\n",
       "executive         9.666667\n",
       "healthcare        0.454545\n",
       "homemaker         0.166667\n",
       "lawyer            5.000000\n",
       "librarian         0.758621\n",
       "marketing         1.600000\n",
       "none              1.250000\n",
       "other             1.916667\n",
       "programmer       10.000000\n",
       "retired          13.000000\n",
       "salesman          3.000000\n",
       "scientist         9.333333\n",
       "student           2.266667\n",
       "technician       26.000000\n",
       "writer            1.368421\n",
       "Name: occupation, dtype: float64"
      ]
     },
     "execution_count": 13,
     "metadata": {},
     "output_type": "execute_result"
    }
   ],
   "source": [
    "# SHORT WAY\n",
    "# ratio of men = nb men/total-nb men = nb men/nb female.\n",
    "num_men_by_occup = users.loc[users.gender == \"M\"].groupby(by = \"occupation\").occupation.count()\n",
    "num_people_by_occup = users.groupby(\"occupation\").occupation.count()\n",
    "\n",
    "ratio_men = num_men_by_occup.div((num_people_by_occup - num_men_by_occup))\n",
    "ratio_men"
   ]
  },
  {
   "cell_type": "markdown",
   "metadata": {},
   "source": [
    "#### What is the number of men per occupation and sort it from the most to the least?"
   ]
  },
  {
   "cell_type": "code",
   "execution_count": 35,
   "metadata": {},
   "outputs": [
    {
     "data": {
      "text/plain": [
       "occupation\n",
       "student       136\n",
       "educator       69\n",
       "other          69\n",
       "engineer       65\n",
       "programmer     60\n",
       "Name: gender, dtype: int64"
      ]
     },
     "execution_count": 35,
     "metadata": {},
     "output_type": "execute_result"
    }
   ],
   "source": [
    "users.loc[users.gender == \"M\",:].groupby('occupation').gender.count().sort_values(ascending = False).head()"
   ]
  },
  {
   "cell_type": "code",
   "execution_count": 22,
   "metadata": {
    "scrolled": true
   },
   "outputs": [
    {
     "data": {
      "text/plain": [
       "student       136\n",
       "other          69\n",
       "educator       69\n",
       "engineer       65\n",
       "programmer     60\n",
       "Name: occupation, dtype: int64"
      ]
     },
     "execution_count": 22,
     "metadata": {},
     "output_type": "execute_result"
    }
   ],
   "source": [
    "# users.loc[users.gender == \"M\"] ---> a data frame where gender is only male\n",
    "users.loc[users.gender == \"M\",'occupation'].value_counts().sort_values(ascending = False).head()"
   ]
  },
  {
   "cell_type": "markdown",
   "metadata": {},
   "source": [
    "#### For each occupation calculate the minimum and maximum age"
   ]
  },
  {
   "cell_type": "code",
   "execution_count": 53,
   "metadata": {
    "scrolled": true
   },
   "outputs": [
    {
     "data": {
      "text/html": [
       "<div>\n",
       "<style>\n",
       "    .dataframe thead tr:only-child th {\n",
       "        text-align: right;\n",
       "    }\n",
       "\n",
       "    .dataframe thead th {\n",
       "        text-align: left;\n",
       "    }\n",
       "\n",
       "    .dataframe tbody tr th {\n",
       "        vertical-align: top;\n",
       "    }\n",
       "</style>\n",
       "<table border=\"1\" class=\"dataframe\">\n",
       "  <thead>\n",
       "    <tr>\n",
       "      <th></th>\n",
       "      <th colspan=\"2\" halign=\"left\">age</th>\n",
       "    </tr>\n",
       "    <tr>\n",
       "      <th></th>\n",
       "      <th>min</th>\n",
       "      <th>max</th>\n",
       "    </tr>\n",
       "    <tr>\n",
       "      <th>occupation</th>\n",
       "      <th></th>\n",
       "      <th></th>\n",
       "    </tr>\n",
       "  </thead>\n",
       "  <tbody>\n",
       "    <tr>\n",
       "      <th>administrator</th>\n",
       "      <td>21</td>\n",
       "      <td>70</td>\n",
       "    </tr>\n",
       "    <tr>\n",
       "      <th>artist</th>\n",
       "      <td>19</td>\n",
       "      <td>48</td>\n",
       "    </tr>\n",
       "    <tr>\n",
       "      <th>doctor</th>\n",
       "      <td>28</td>\n",
       "      <td>64</td>\n",
       "    </tr>\n",
       "    <tr>\n",
       "      <th>educator</th>\n",
       "      <td>23</td>\n",
       "      <td>63</td>\n",
       "    </tr>\n",
       "    <tr>\n",
       "      <th>engineer</th>\n",
       "      <td>22</td>\n",
       "      <td>70</td>\n",
       "    </tr>\n",
       "  </tbody>\n",
       "</table>\n",
       "</div>"
      ],
      "text/plain": [
       "              age    \n",
       "              min max\n",
       "occupation           \n",
       "administrator  21  70\n",
       "artist         19  48\n",
       "doctor         28  64\n",
       "educator       23  63\n",
       "engineer       22  70"
      ]
     },
     "execution_count": 53,
     "metadata": {},
     "output_type": "execute_result"
    }
   ],
   "source": [
    "users.groupby(\"occupation\").agg({'age':['min','max']}).head()"
   ]
  },
  {
   "cell_type": "code",
   "execution_count": 55,
   "metadata": {},
   "outputs": [
    {
     "data": {
      "text/html": [
       "<div>\n",
       "<style>\n",
       "    .dataframe thead tr:only-child th {\n",
       "        text-align: right;\n",
       "    }\n",
       "\n",
       "    .dataframe thead th {\n",
       "        text-align: left;\n",
       "    }\n",
       "\n",
       "    .dataframe tbody tr th {\n",
       "        vertical-align: top;\n",
       "    }\n",
       "</style>\n",
       "<table border=\"1\" class=\"dataframe\">\n",
       "  <thead>\n",
       "    <tr style=\"text-align: right;\">\n",
       "      <th></th>\n",
       "      <th>min</th>\n",
       "      <th>max</th>\n",
       "    </tr>\n",
       "    <tr>\n",
       "      <th>occupation</th>\n",
       "      <th></th>\n",
       "      <th></th>\n",
       "    </tr>\n",
       "  </thead>\n",
       "  <tbody>\n",
       "    <tr>\n",
       "      <th>administrator</th>\n",
       "      <td>21</td>\n",
       "      <td>70</td>\n",
       "    </tr>\n",
       "    <tr>\n",
       "      <th>artist</th>\n",
       "      <td>19</td>\n",
       "      <td>48</td>\n",
       "    </tr>\n",
       "    <tr>\n",
       "      <th>doctor</th>\n",
       "      <td>28</td>\n",
       "      <td>64</td>\n",
       "    </tr>\n",
       "    <tr>\n",
       "      <th>educator</th>\n",
       "      <td>23</td>\n",
       "      <td>63</td>\n",
       "    </tr>\n",
       "    <tr>\n",
       "      <th>engineer</th>\n",
       "      <td>22</td>\n",
       "      <td>70</td>\n",
       "    </tr>\n",
       "  </tbody>\n",
       "</table>\n",
       "</div>"
      ],
      "text/plain": [
       "               min  max\n",
       "occupation             \n",
       "administrator   21   70\n",
       "artist          19   48\n",
       "doctor          28   64\n",
       "educator        23   63\n",
       "engineer        22   70"
      ]
     },
     "execution_count": 55,
     "metadata": {},
     "output_type": "execute_result"
    }
   ],
   "source": [
    "users.groupby(\"occupation\").age.agg(['min','max']).head()"
   ]
  },
  {
   "cell_type": "markdown",
   "metadata": {},
   "source": [
    "#### For each combination of occupation and gender calculate the mean age"
   ]
  },
  {
   "cell_type": "code",
   "execution_count": 40,
   "metadata": {},
   "outputs": [
    {
     "data": {
      "text/plain": [
       "occupation     gender\n",
       "administrator  F         40.638889\n",
       "               M         37.162791\n",
       "artist         F         30.307692\n",
       "               M         32.333333\n",
       "doctor         M         43.571429\n",
       "Name: age, dtype: float64"
      ]
     },
     "execution_count": 40,
     "metadata": {},
     "output_type": "execute_result"
    }
   ],
   "source": [
    "users.groupby(by = ['occupation','gender']).age.mean().head()"
   ]
  },
  {
   "cell_type": "markdown",
   "metadata": {},
   "source": [
    "#### For each occupation present the percentage of women and men"
   ]
  },
  {
   "cell_type": "code",
   "execution_count": 90,
   "metadata": {},
   "outputs": [
    {
     "data": {
      "text/plain": [
       "{'administrator': {'F': 45.569620253164558, 'M': 54.430379746835442},\n",
       " 'artist': {'F': 46.428571428571431, 'M': 53.571428571428569},\n",
       " 'doctor': {'F': 0.0, 'M': 100.0},\n",
       " 'educator': {'F': 27.368421052631582, 'M': 72.631578947368425},\n",
       " 'engineer': {'F': 2.9850746268656714, 'M': 97.014925373134332},\n",
       " 'entertainment': {'F': 11.111111111111111, 'M': 88.888888888888886},\n",
       " 'executive': {'F': 9.375, 'M': 90.625},\n",
       " 'healthcare': {'F': 68.75, 'M': 31.25},\n",
       " 'homemaker': {'F': 85.714285714285708, 'M': 14.285714285714285},\n",
       " 'lawyer': {'F': 16.666666666666664, 'M': 83.333333333333343},\n",
       " 'librarian': {'F': 56.862745098039213, 'M': 43.137254901960787},\n",
       " 'marketing': {'F': 38.461538461538467, 'M': 61.53846153846154},\n",
       " 'none': {'F': 44.444444444444443, 'M': 55.555555555555557},\n",
       " 'other': {'F': 34.285714285714285, 'M': 65.714285714285708},\n",
       " 'programmer': {'F': 9.0909090909090917, 'M': 90.909090909090907},\n",
       " 'retired': {'F': 7.1428571428571423, 'M': 92.857142857142861},\n",
       " 'salesman': {'F': 25.0, 'M': 75.0},\n",
       " 'scientist': {'F': 9.67741935483871, 'M': 90.322580645161281},\n",
       " 'student': {'F': 30.612244897959183, 'M': 69.387755102040813},\n",
       " 'technician': {'F': 3.7037037037037033, 'M': 96.296296296296291},\n",
       " 'writer': {'F': 42.222222222222221, 'M': 57.777777777777771}}"
      ]
     },
     "execution_count": 90,
     "metadata": {},
     "output_type": "execute_result"
    }
   ],
   "source": [
    "# LONG WAY\n",
    "# Retry all the dict homework as well as the file homework\n",
    "num_of_male_per_occup = np.array(users.loc[users.gender == \"M\"].groupby(\"occupation\").occupation.count())\n",
    "num_of_people_per_occup = np.array(users.groupby(\"occupation\").occupation.count())\n",
    "num_of_female_per_occup = num_of_people_per_occup - num_of_male_per_occup\n",
    "occup_list = users.loc[users.gender == \"M\"].groupby(\"occupation\").occupation.count().index\n",
    "\n",
    "pct_occup_by_gender = {}\n",
    "gender_dict = {}\n",
    "for index, occupation in enumerate(occup_list):\n",
    "    for gender in users.gender.unique():\n",
    "        if gender == \"M\":\n",
    "            pct_occup_by_gender[occupation] = {gender:(num_of_male_per_occup[index]/num_of_people_per_occup[index])*100}\n",
    "        else:\n",
    "            # add the female key to the existing dict\n",
    "            pct_occup_by_gender[occupation][gender]= (num_of_female_per_occup[index]/num_of_people_per_occup[index])*100\n",
    "\n",
    "pct_occup_by_gender    "
   ]
  },
  {
   "cell_type": "markdown",
   "metadata": {},
   "source": [
    "### SHORT AND SMART WAY (use div function)\n",
    "\n",
    "- .div(other, axis='columns', level=None, fill_value=None): \n",
    "Floating division of dataframe and other, element-wise (binary operator `truediv`)."
   ]
  },
  {
   "cell_type": "code",
   "execution_count": 94,
   "metadata": {},
   "outputs": [
    {
     "name": "stdout",
     "output_type": "stream",
     "text": [
      "<class 'pandas.core.series.Series'> <class 'pandas.core.series.Series'>\n"
     ]
    },
    {
     "data": {
      "text/plain": [
       "occupation     gender\n",
       "administrator  F         0.455696\n",
       "               M         0.544304\n",
       "artist         F         0.464286\n",
       "               M         0.535714\n",
       "doctor         M         1.000000\n",
       "educator       F         0.273684\n",
       "               M         0.726316\n",
       "engineer       F         0.029851\n",
       "               M         0.970149\n",
       "entertainment  F         0.111111\n",
       "               M         0.888889\n",
       "executive      F         0.093750\n",
       "               M         0.906250\n",
       "healthcare     F         0.687500\n",
       "               M         0.312500\n",
       "homemaker      F         0.857143\n",
       "               M         0.142857\n",
       "lawyer         F         0.166667\n",
       "               M         0.833333\n",
       "librarian      F         0.568627\n",
       "               M         0.431373\n",
       "marketing      F         0.384615\n",
       "               M         0.615385\n",
       "none           F         0.444444\n",
       "               M         0.555556\n",
       "other          F         0.342857\n",
       "               M         0.657143\n",
       "programmer     F         0.090909\n",
       "               M         0.909091\n",
       "retired        F         0.071429\n",
       "               M         0.928571\n",
       "salesman       F         0.250000\n",
       "               M         0.750000\n",
       "scientist      F         0.096774\n",
       "               M         0.903226\n",
       "student        F         0.306122\n",
       "               M         0.693878\n",
       "technician     F         0.037037\n",
       "               M         0.962963\n",
       "writer         F         0.422222\n",
       "               M         0.577778\n",
       "Name: occupation, dtype: float64"
      ]
     },
     "execution_count": 94,
     "metadata": {},
     "output_type": "execute_result"
    }
   ],
   "source": [
    "# create dataset gender occup\n",
    "gender_occup = users.groupby(by = ['occupation','gender']).occupation.count()\n",
    "occup_count = users.groupby(\"occupation\").occupation.count()\n",
    "print(type(gender_occup),type(occup_count))\n",
    "gender_occup.div(occup_count)\n"
   ]
  },
  {
   "cell_type": "markdown",
   "metadata": {},
   "source": [
    "**NB:** in a groupby, the variable to do the groupby on is categorical or sometimes discrete (age, occupation) or a combination of discrete and continuous variable. the variable to be found most of the times is either continuous or discrete(age, price).\n",
    "\n",
    "- every time you perform a calculation and you are not sure of the output, wrap the type fct around it "
   ]
  },
  {
   "cell_type": "code",
   "execution_count": null,
   "metadata": {
    "collapsed": true
   },
   "outputs": [],
   "source": []
  }
 ],
 "metadata": {
  "kernelspec": {
   "display_name": "Python [conda root]",
   "language": "python",
   "name": "conda-root-py"
  },
  "language_info": {
   "codemirror_mode": {
    "name": "ipython",
    "version": 3
   },
   "file_extension": ".py",
   "mimetype": "text/x-python",
   "name": "python",
   "nbconvert_exporter": "python",
   "pygments_lexer": "ipython3",
   "version": "3.5.3"
  }
 },
 "nbformat": 4,
 "nbformat_minor": 2
}
