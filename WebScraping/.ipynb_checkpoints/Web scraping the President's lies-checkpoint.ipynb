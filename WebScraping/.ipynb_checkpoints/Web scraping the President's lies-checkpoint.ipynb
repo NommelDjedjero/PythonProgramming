{
 "cells": [
  {
   "cell_type": "markdown",
   "metadata": {},
   "source": [
    "### Importing the libraries"
   ]
  },
  {
   "cell_type": "code",
   "execution_count": 8,
   "metadata": {
    "collapsed": true
   },
   "outputs": [],
   "source": [
    "import requests\n",
    "import re\n",
    "from bs4 import BeautifulSoup as BS\n",
    "import pandas as pd"
   ]
  },
  {
   "cell_type": "markdown",
   "metadata": {},
   "source": [
    "### Getting the webpage"
   ]
  },
  {
   "cell_type": "code",
   "execution_count": 9,
   "metadata": {
    "collapsed": true
   },
   "outputs": [],
   "source": [
    "url = \"https://www.nytimes.com/interactive/2017/06/23/opinion/trumps-lies.html\"\n",
    "page = requests.get(url)"
   ]
  },
  {
   "cell_type": "code",
   "execution_count": 10,
   "metadata": {
    "collapsed": true
   },
   "outputs": [],
   "source": [
    "soup = BS(page.content,'lxml')\n",
    "# print(soup.prettify())"
   ]
  },
  {
   "cell_type": "markdown",
   "metadata": {},
   "source": [
    "### Extracting the data from the page"
   ]
  },
  {
   "cell_type": "code",
   "execution_count": 11,
   "metadata": {
    "collapsed": true
   },
   "outputs": [],
   "source": [
    "Theparent = list(soup.find_all(\"div\",class_= \"g-graphic\"))[0]"
   ]
  },
  {
   "cell_type": "code",
   "execution_count": 12,
   "metadata": {
    "collapsed": true
   },
   "outputs": [],
   "source": [
    "Thechildren = list(Theparent.children)[3]"
   ]
  },
  {
   "cell_type": "code",
   "execution_count": 13,
   "metadata": {
    "collapsed": true
   },
   "outputs": [],
   "source": [
    "list_of_lies = Thechildren.find(\"div\", class_= \"lie-grid\").find_all(\"span\",class_ = \"short-desc\")"
   ]
  },
  {
   "cell_type": "code",
   "execution_count": 14,
   "metadata": {},
   "outputs": [],
   "source": [
    "dates = []\n",
    "lies = []\n",
    "explanations = []\n",
    "link_of_lies = []\n",
    "\n",
    "for each_lie in list_of_lies:\n",
    "    each_lie_list = list(each_lie.children)\n",
    "    date = each_lie_list[0].text[:-1]\n",
    "    actual_lie = each_lie_list[1]\n",
    "    explanation = re.sub(\"\\(|\\)\",\"\",each_lie_list[2].text)\n",
    "    actual_lie_link = each_lie_list[2].a.attrs['href']\n",
    "    dates.append(date)\n",
    "    lies.append(actual_lie)\n",
    "    explanations.append(explanation)\n",
    "    link_of_lies.append(actual_lie_link)\n",
    "    "
   ]
  },
  {
   "cell_type": "markdown",
   "metadata": {},
   "source": [
    "### Creating the dataset"
   ]
  },
  {
   "cell_type": "code",
   "execution_count": 15,
   "metadata": {
    "collapsed": true
   },
   "outputs": [],
   "source": [
    "df = pd.DataFrame({\"Dates\":dates,\n",
    "                  \"Lies\":lies,\n",
    "                  \"Explanations\":explanations,\n",
    "                  \"Links\":link_of_lies})"
   ]
  },
  {
   "cell_type": "code",
   "execution_count": 16,
   "metadata": {},
   "outputs": [
    {
     "data": {
      "text/html": [
       "<div>\n",
       "<style>\n",
       "    .dataframe thead tr:only-child th {\n",
       "        text-align: right;\n",
       "    }\n",
       "\n",
       "    .dataframe thead th {\n",
       "        text-align: left;\n",
       "    }\n",
       "\n",
       "    .dataframe tbody tr th {\n",
       "        vertical-align: top;\n",
       "    }\n",
       "</style>\n",
       "<table border=\"1\" class=\"dataframe\">\n",
       "  <thead>\n",
       "    <tr style=\"text-align: right;\">\n",
       "      <th></th>\n",
       "      <th>Dates</th>\n",
       "      <th>Explanations</th>\n",
       "      <th>Lies</th>\n",
       "      <th>Links</th>\n",
       "    </tr>\n",
       "  </thead>\n",
       "  <tbody>\n",
       "    <tr>\n",
       "      <th>0</th>\n",
       "      <td>Jan. 21</td>\n",
       "      <td>He was for an invasion before he was against it.</td>\n",
       "      <td>“I wasn't a fan of Iraq. I didn't want to go i...</td>\n",
       "      <td>https://www.buzzfeed.com/andrewkaczynski/in-20...</td>\n",
       "    </tr>\n",
       "    <tr>\n",
       "      <th>1</th>\n",
       "      <td>Jan. 21</td>\n",
       "      <td>Trump was on the cover 11 times and Nixon appe...</td>\n",
       "      <td>“A reporter for Time magazine — and I have bee...</td>\n",
       "      <td>http://nation.time.com/2013/11/06/10-things-yo...</td>\n",
       "    </tr>\n",
       "    <tr>\n",
       "      <th>2</th>\n",
       "      <td>Jan. 23</td>\n",
       "      <td>There's no evidence of illegal voting.</td>\n",
       "      <td>“Between 3 million and 5 million illegal votes...</td>\n",
       "      <td>https://www.nytimes.com/2017/01/23/us/politics...</td>\n",
       "    </tr>\n",
       "    <tr>\n",
       "      <th>3</th>\n",
       "      <td>Jan. 25</td>\n",
       "      <td>Official aerial photos show Obama's 2009 inaug...</td>\n",
       "      <td>“Now, the audience was the biggest ever. But t...</td>\n",
       "      <td>https://www.nytimes.com/2017/01/21/us/politics...</td>\n",
       "    </tr>\n",
       "    <tr>\n",
       "      <th>4</th>\n",
       "      <td>Jan. 25</td>\n",
       "      <td>The report never mentioned voter fraud.</td>\n",
       "      <td>“Take a look at the Pew reports (which show vo...</td>\n",
       "      <td>https://www.nytimes.com/2017/01/24/us/politics...</td>\n",
       "    </tr>\n",
       "    <tr>\n",
       "      <th>5</th>\n",
       "      <td>Jan. 25</td>\n",
       "      <td>The real number is less than 1 million, accord...</td>\n",
       "      <td>“You had millions of people that now aren't in...</td>\n",
       "      <td>https://www.nytimes.com/2017/03/13/us/politics...</td>\n",
       "    </tr>\n",
       "    <tr>\n",
       "      <th>6</th>\n",
       "      <td>Jan. 25</td>\n",
       "      <td>There were no gun homicide victims in Chicago ...</td>\n",
       "      <td>“So, look, when President Obama was there two ...</td>\n",
       "      <td>https://www.dnainfo.com/chicago/2017-chicago-m...</td>\n",
       "    </tr>\n",
       "    <tr>\n",
       "      <th>7</th>\n",
       "      <td>Jan. 26</td>\n",
       "      <td>Vetting lasts up to two years.</td>\n",
       "      <td>“We've taken in tens of thousands of people. W...</td>\n",
       "      <td>https://www.nytimes.com/interactive/2017/01/29...</td>\n",
       "    </tr>\n",
       "    <tr>\n",
       "      <th>8</th>\n",
       "      <td>Jan. 26</td>\n",
       "      <td>Most of the cuts were already planned.</td>\n",
       "      <td>“I cut off hundreds of millions of dollars off...</td>\n",
       "      <td>https://www.washingtonpost.com/news/fact-check...</td>\n",
       "    </tr>\n",
       "    <tr>\n",
       "      <th>9</th>\n",
       "      <td>Jan. 28</td>\n",
       "      <td>It never apologized.</td>\n",
       "      <td>“The coverage about me in the @nytimes and the...</td>\n",
       "      <td>https://www.nytimes.com/2016/11/13/us/election...</td>\n",
       "    </tr>\n",
       "    <tr>\n",
       "      <th>10</th>\n",
       "      <td>Jan. 29</td>\n",
       "      <td>There is no support for this.</td>\n",
       "      <td>“The Cuban-Americans, I got 84 percent of that...</td>\n",
       "      <td>http://www.pewresearch.org/fact-tank/2016/11/1...</td>\n",
       "    </tr>\n",
       "  </tbody>\n",
       "</table>\n",
       "</div>"
      ],
      "text/plain": [
       "      Dates                                       Explanations  \\\n",
       "0   Jan. 21   He was for an invasion before he was against it.   \n",
       "1   Jan. 21  Trump was on the cover 11 times and Nixon appe...   \n",
       "2   Jan. 23             There's no evidence of illegal voting.   \n",
       "3   Jan. 25  Official aerial photos show Obama's 2009 inaug...   \n",
       "4   Jan. 25            The report never mentioned voter fraud.   \n",
       "5   Jan. 25  The real number is less than 1 million, accord...   \n",
       "6   Jan. 25  There were no gun homicide victims in Chicago ...   \n",
       "7   Jan. 26                     Vetting lasts up to two years.   \n",
       "8   Jan. 26             Most of the cuts were already planned.   \n",
       "9   Jan. 28                               It never apologized.   \n",
       "10  Jan. 29                      There is no support for this.   \n",
       "\n",
       "                                                 Lies  \\\n",
       "0   “I wasn't a fan of Iraq. I didn't want to go i...   \n",
       "1   “A reporter for Time magazine — and I have bee...   \n",
       "2   “Between 3 million and 5 million illegal votes...   \n",
       "3   “Now, the audience was the biggest ever. But t...   \n",
       "4   “Take a look at the Pew reports (which show vo...   \n",
       "5   “You had millions of people that now aren't in...   \n",
       "6   “So, look, when President Obama was there two ...   \n",
       "7   “We've taken in tens of thousands of people. W...   \n",
       "8   “I cut off hundreds of millions of dollars off...   \n",
       "9   “The coverage about me in the @nytimes and the...   \n",
       "10  “The Cuban-Americans, I got 84 percent of that...   \n",
       "\n",
       "                                                Links  \n",
       "0   https://www.buzzfeed.com/andrewkaczynski/in-20...  \n",
       "1   http://nation.time.com/2013/11/06/10-things-yo...  \n",
       "2   https://www.nytimes.com/2017/01/23/us/politics...  \n",
       "3   https://www.nytimes.com/2017/01/21/us/politics...  \n",
       "4   https://www.nytimes.com/2017/01/24/us/politics...  \n",
       "5   https://www.nytimes.com/2017/03/13/us/politics...  \n",
       "6   https://www.dnainfo.com/chicago/2017-chicago-m...  \n",
       "7   https://www.nytimes.com/interactive/2017/01/29...  \n",
       "8   https://www.washingtonpost.com/news/fact-check...  \n",
       "9   https://www.nytimes.com/2016/11/13/us/election...  \n",
       "10  http://www.pewresearch.org/fact-tank/2016/11/1...  "
      ]
     },
     "execution_count": 16,
     "metadata": {},
     "output_type": "execute_result"
    }
   ],
   "source": [
    "df.head(11)"
   ]
  },
  {
   "cell_type": "code",
   "execution_count": null,
   "metadata": {
    "collapsed": true
   },
   "outputs": [],
   "source": [
    "# results = soup.find_all('span', attrs={'class':'short-desc'})  "
   ]
  }
 ],
 "metadata": {
  "kernelspec": {
   "display_name": "Python [conda root]",
   "language": "python",
   "name": "conda-root-py"
  },
  "language_info": {
   "codemirror_mode": {
    "name": "ipython",
    "version": 3
   },
   "file_extension": ".py",
   "mimetype": "text/x-python",
   "name": "python",
   "nbconvert_exporter": "python",
   "pygments_lexer": "ipython3",
   "version": "3.5.3"
  }
 },
 "nbformat": 4,
 "nbformat_minor": 2
}
