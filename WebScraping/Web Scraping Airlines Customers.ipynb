{
 "cells": [
  {
   "cell_type": "code",
   "execution_count": 1,
   "metadata": {
    "collapsed": true
   },
   "outputs": [],
   "source": [
    "import pandas as pd\n",
    "import requests\n",
    "from bs4 import BeautifulSoup as BS"
   ]
  },
  {
   "cell_type": "code",
   "execution_count": 2,
   "metadata": {
    "collapsed": true
   },
   "outputs": [],
   "source": [
    "url = 'https://www.forbes.com/sites/grantmartin/2016/05/14/the-best-u-s-airlines-for-customer-satisfaction/#74b77b681278'"
   ]
  },
  {
   "cell_type": "code",
   "execution_count": 3,
   "metadata": {
    "collapsed": true
   },
   "outputs": [],
   "source": [
    "page = requests.get(url)\n",
    "page.status_code"
   ]
  },
  {
   "cell_type": "code",
   "execution_count": 5,
   "metadata": {
    "collapsed": true
   },
   "outputs": [],
   "source": [
    "soup = BS(page.content,'html.parser')"
   ]
  },
  {
   "cell_type": "code",
   "execution_count": 36,
   "metadata": {},
   "outputs": [
    {
     "data": {
      "text/plain": [
       "[<ol>\n",
       " <li>Alaska Airlines (751)</li>\n",
       " <li>Delta Air Lines (725)</li>\n",
       " <li>American Airlines (693)</li>\n",
       " <li>Air Canada (681)</li>\n",
       " <li>United Airlines (675)</li>\n",
       " </ol>, <ol>\n",
       " <li>JetBlue Airways (790)</li>\n",
       " <li>Southwest Airlines (789)</li>\n",
       " <li>WestJet (723)</li>\n",
       " <li>Frontier Airlines (662)</li>\n",
       " </ol>]"
      ]
     },
     "execution_count": 36,
     "metadata": {},
     "output_type": "execute_result"
    }
   ],
   "source": [
    "airline_type = soup.body.find_all('ol')\n",
    "airline_type"
   ]
  },
  {
   "cell_type": "code",
   "execution_count": 73,
   "metadata": {},
   "outputs": [
    {
     "data": {
      "text/plain": [
       "['Alaska Airlines (751)',\n",
       " 'Delta Air Lines (725)',\n",
       " 'American Airlines (693)',\n",
       " 'Air Canada (681)',\n",
       " 'United Airlines (675)',\n",
       " 'JetBlue Airways (790)',\n",
       " 'Southwest Airlines (789)',\n",
       " 'WestJet (723)',\n",
       " 'Frontier Airlines (662)']"
      ]
     },
     "execution_count": 73,
     "metadata": {},
     "output_type": "execute_result"
    }
   ],
   "source": [
    "# the first loop iterate over the ol elt and the second iterate over each li in one ol elt\n",
    "airlines = [airline.get_text() for at in airline_type for airline in at.find_all('li')]\n",
    "airlines"
   ]
  },
  {
   "cell_type": "code",
   "execution_count": 74,
   "metadata": {},
   "outputs": [
    {
     "name": "stdout",
     "output_type": "stream",
     "text": [
      "['Alaska Airlines', 'Delta Air Lines', 'American Airlines', 'Air Canada', 'United Airlines', 'JetBlue Airways', 'Southwest Airlines', 'WestJet', 'Frontier Airlines']\n",
      "['751', '725', '693', '681', '675', '790', '789', '723', '662']\n"
     ]
    }
   ],
   "source": [
    "# Create airlines and customer satisfaction scores\n",
    "Airline_Names = []\n",
    "Customer_Satisfaction_Score = []\n",
    "for item in airlines:\n",
    "    item_list = item.split(\"(\")\n",
    "    Airline_Names.append(item_list[0].strip())\n",
    "    Customer_Satisfaction_Score.append(item_list[1].strip(\")\"))\n",
    "    \n",
    "\n",
    "print(Airline_Names)\n",
    "print(Customer_Satisfaction_Score)\n"
   ]
  },
  {
   "cell_type": "code",
   "execution_count": 62,
   "metadata": {
    "collapsed": true
   },
   "outputs": [],
   "source": [
    "df = pd.DataFrame({'Airlines': Airline_Names,\n",
    "                  'Score': Customer_Satisfaction_Score})\n",
    "df['Score'] = df.Score.astype('int64')\n",
    "df.dtypes"
   ]
  },
  {
   "cell_type": "code",
   "execution_count": 75,
   "metadata": {
    "scrolled": true
   },
   "outputs": [
    {
     "data": {
      "text/html": [
       "<div>\n",
       "<style>\n",
       "    .dataframe thead tr:only-child th {\n",
       "        text-align: right;\n",
       "    }\n",
       "\n",
       "    .dataframe thead th {\n",
       "        text-align: left;\n",
       "    }\n",
       "\n",
       "    .dataframe tbody tr th {\n",
       "        vertical-align: top;\n",
       "    }\n",
       "</style>\n",
       "<table border=\"1\" class=\"dataframe\">\n",
       "  <thead>\n",
       "    <tr style=\"text-align: right;\">\n",
       "      <th></th>\n",
       "      <th>Airlines</th>\n",
       "      <th>Score</th>\n",
       "    </tr>\n",
       "  </thead>\n",
       "  <tbody>\n",
       "    <tr>\n",
       "      <th>0</th>\n",
       "      <td>Alaska Airlines</td>\n",
       "      <td>751</td>\n",
       "    </tr>\n",
       "    <tr>\n",
       "      <th>1</th>\n",
       "      <td>Delta Air Lines</td>\n",
       "      <td>725</td>\n",
       "    </tr>\n",
       "    <tr>\n",
       "      <th>2</th>\n",
       "      <td>American Airlines</td>\n",
       "      <td>693</td>\n",
       "    </tr>\n",
       "    <tr>\n",
       "      <th>3</th>\n",
       "      <td>Air Canada</td>\n",
       "      <td>681</td>\n",
       "    </tr>\n",
       "    <tr>\n",
       "      <th>4</th>\n",
       "      <td>United Airlines</td>\n",
       "      <td>675</td>\n",
       "    </tr>\n",
       "    <tr>\n",
       "      <th>5</th>\n",
       "      <td>JetBlue Airways</td>\n",
       "      <td>790</td>\n",
       "    </tr>\n",
       "    <tr>\n",
       "      <th>6</th>\n",
       "      <td>Southwest Airlines</td>\n",
       "      <td>789</td>\n",
       "    </tr>\n",
       "    <tr>\n",
       "      <th>7</th>\n",
       "      <td>WestJet</td>\n",
       "      <td>723</td>\n",
       "    </tr>\n",
       "    <tr>\n",
       "      <th>8</th>\n",
       "      <td>Frontier Airlines</td>\n",
       "      <td>662</td>\n",
       "    </tr>\n",
       "  </tbody>\n",
       "</table>\n",
       "</div>"
      ],
      "text/plain": [
       "             Airlines  Score\n",
       "0     Alaska Airlines    751\n",
       "1     Delta Air Lines    725\n",
       "2   American Airlines    693\n",
       "3          Air Canada    681\n",
       "4     United Airlines    675\n",
       "5     JetBlue Airways    790\n",
       "6  Southwest Airlines    789\n",
       "7             WestJet    723\n",
       "8   Frontier Airlines    662"
      ]
     },
     "execution_count": 75,
     "metadata": {},
     "output_type": "execute_result"
    }
   ],
   "source": [
    "df"
   ]
  },
  {
   "cell_type": "code",
   "execution_count": null,
   "metadata": {
    "collapsed": true
   },
   "outputs": [],
   "source": []
  }
 ],
 "metadata": {
  "kernelspec": {
   "display_name": "Python [conda root]",
   "language": "python",
   "name": "conda-root-py"
  },
  "language_info": {
   "codemirror_mode": {
    "name": "ipython",
    "version": 3
   },
   "file_extension": ".py",
   "mimetype": "text/x-python",
   "name": "python",
   "nbconvert_exporter": "python",
   "pygments_lexer": "ipython3",
   "version": "3.5.3"
  }
 },
 "nbformat": 4,
 "nbformat_minor": 2
}
